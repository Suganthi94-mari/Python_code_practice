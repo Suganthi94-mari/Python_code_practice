{
 "cells": [
  {
   "cell_type": "code",
   "execution_count": 1,
   "id": "0c1670d1-ba67-443a-a12e-8c1bcc49dc43",
   "metadata": {},
   "outputs": [],
   "source": [
    "########insert a row on given location\n",
    "import pandas as pd"
   ]
  },
  {
   "cell_type": "code",
   "execution_count": 2,
   "id": "a4600637-8295-47e6-a387-e82ba028032c",
   "metadata": {},
   "outputs": [
    {
     "name": "stdout",
     "output_type": "stream",
     "text": [
      "        Date    Event   Cost\n",
      "0  10/2/2011    Music  10000\n",
      "1  12/2/2011   Poetry   5000\n",
      "2  13/2/2011  Theatre  15000\n",
      "3  14/2/2011   Comedy   2000\n"
     ]
    }
   ],
   "source": [
    "df = pd.DataFrame({'Date':['10/2/2011', '12/2/2011', '13/2/2011', '14/2/2011'],\n",
    "                    'Event':['Music', 'Poetry', 'Theatre', 'Comedy'],\n",
    "                    'Cost':[10000, 5000, 15000, 2000]})\n",
    "print(df)"
   ]
  },
  {
   "cell_type": "code",
   "execution_count": 5,
   "id": "7ee0406f-84bb-4995-95f8-c709c993ac67",
   "metadata": {},
   "outputs": [
    {
     "name": "stdout",
     "output_type": "stream",
     "text": [
      "        Date    Event   Cost\n",
      "0  10/2/2011    Music  10000\n",
      "1  12/2/2011   Poetry   5000\n",
      "2  13/2/2011  Theatre  15000\n"
     ]
    }
   ],
   "source": [
    "row_no=3\n",
    "top_row=df[0:row_no]\n",
    "print(top_row)"
   ]
  },
  {
   "cell_type": "code",
   "execution_count": 6,
   "id": "2c610d7b-554e-4d3c-b36c-4e9448a4b398",
   "metadata": {},
   "outputs": [
    {
     "name": "stdout",
     "output_type": "stream",
     "text": [
      "        Date   Event  Cost\n",
      "3  14/2/2011  Comedy  2000\n"
     ]
    }
   ],
   "source": [
    "next_row=df[row_no:]\n",
    "print(next_row)"
   ]
  },
  {
   "cell_type": "code",
   "execution_count": 9,
   "id": "0f209732-1a61-46d6-95be-27f5cafab9fe",
   "metadata": {},
   "outputs": [],
   "source": [
    "top_row.loc[row_no]=['11/2/2011','Dance',1000]"
   ]
  },
  {
   "cell_type": "code",
   "execution_count": 10,
   "id": "a3d2a702-2c90-409a-a814-3affac3607d1",
   "metadata": {},
   "outputs": [
    {
     "name": "stdout",
     "output_type": "stream",
     "text": [
      "        Date    Event   Cost\n",
      "0  10/2/2011    Music  10000\n",
      "1  12/2/2011   Poetry   5000\n",
      "2  13/2/2011  Theatre  15000\n",
      "3  11/2/2011    Dance   1000\n",
      "3  14/2/2011   Comedy   2000\n"
     ]
    }
   ],
   "source": [
    "df_re=pd.concat([top_row,next_row])\n",
    "print(df_re)"
   ]
  },
  {
   "cell_type": "code",
   "execution_count": 12,
   "id": "e6ce69c1-2bd0-4adf-b8d0-154b9dcd3157",
   "metadata": {},
   "outputs": [
    {
     "name": "stdout",
     "output_type": "stream",
     "text": [
      "        Date    Event   Cost\n",
      "0  10/2/2011    Music  10000\n",
      "1  12/2/2011   Poetry   5000\n",
      "2  13/2/2011  Theatre  15000\n",
      "3  11/2/2011    Dance   1000\n",
      "4  14/2/2011   Comedy   2000\n"
     ]
    }
   ],
   "source": [
    "df_re.index = [*range(df_re.shape[0])]\n",
    "print(df_re)"
   ]
  },
  {
   "cell_type": "code",
   "execution_count": null,
   "id": "13ad63d2-986d-40ee-81ec-6f6e4422d7ba",
   "metadata": {},
   "outputs": [],
   "source": []
  }
 ],
 "metadata": {
  "kernelspec": {
   "display_name": "Python 3 (ipykernel)",
   "language": "python",
   "name": "python3"
  },
  "language_info": {
   "codemirror_mode": {
    "name": "ipython",
    "version": 3
   },
   "file_extension": ".py",
   "mimetype": "text/x-python",
   "name": "python",
   "nbconvert_exporter": "python",
   "pygments_lexer": "ipython3",
   "version": "3.13.0"
  }
 },
 "nbformat": 4,
 "nbformat_minor": 5
}
